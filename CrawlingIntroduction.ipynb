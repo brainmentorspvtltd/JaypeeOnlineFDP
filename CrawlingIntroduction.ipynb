{
 "cells": [
  {
   "cell_type": "code",
   "execution_count": 1,
   "metadata": {},
   "outputs": [],
   "source": [
    "# 1. bs4 -> Beautiful Soup 4\n",
    "# 2. urllib.request"
   ]
  },
  {
   "cell_type": "code",
   "execution_count": 3,
   "metadata": {},
   "outputs": [],
   "source": [
    "import bs4\n",
    "import urllib.request as url"
   ]
  },
  {
   "cell_type": "code",
   "execution_count": 9,
   "metadata": {},
   "outputs": [],
   "source": [
    "path = \"https://www.flipkart.com/search?q=iphone%2011&otracker=search&otracker1=search&marketplace=FLIPKART&as-show=on&as=off\"\n",
    "\n",
    "# https://www.flipkart.com/search?q=iphone+11&otracker=search&otracker1=search&marketplace=FLIPKART&as-show=on&as=off&page=1\n",
    "# https://www.flipkart.com/search?q=iphone+11&otracker=search&otracker1=search&marketplace=FLIPKART&as-show=on&as=off&page=2\n",
    "# https://www.flipkart.com/search?q=iphone+11&otracker=search&otracker1=search&marketplace=FLIPKART&as-show=on&as=off&page=3\n",
    "# https://www.flipkart.com/search?q=iphone+11&otracker=search&otracker1=search&marketplace=FLIPKART&as-show=on&as=off&page=4\n"
   ]
  },
  {
   "cell_type": "code",
   "execution_count": 10,
   "metadata": {},
   "outputs": [
    {
     "data": {
      "text/plain": [
       "<http.client.HTTPResponse at 0x22003859b48>"
      ]
     },
     "execution_count": 10,
     "metadata": {},
     "output_type": "execute_result"
    }
   ],
   "source": [
    "# makes a http req\n",
    "url.urlopen(path)\n",
    "# and in return we will get http response"
   ]
  },
  {
   "cell_type": "code",
   "execution_count": 11,
   "metadata": {},
   "outputs": [],
   "source": [
    "response = url.urlopen(path)"
   ]
  },
  {
   "cell_type": "code",
   "execution_count": 12,
   "metadata": {},
   "outputs": [],
   "source": [
    "webpage = bs4.BeautifulSoup(response)"
   ]
  },
  {
   "cell_type": "code",
   "execution_count": 13,
   "metadata": {},
   "outputs": [
    {
     "data": {
      "text/plain": [
       "<div class=\"_3wU53n\">Apple iPhone 11 (White, 64 GB)</div>"
      ]
     },
     "execution_count": 13,
     "metadata": {},
     "output_type": "execute_result"
    }
   ],
   "source": [
    "webpage.find('div', class_='_3wU53n')"
   ]
  },
  {
   "cell_type": "code",
   "execution_count": 14,
   "metadata": {},
   "outputs": [
    {
     "data": {
      "text/plain": [
       "'Apple iPhone 11 (White, 64 GB)'"
      ]
     },
     "execution_count": 14,
     "metadata": {},
     "output_type": "execute_result"
    }
   ],
   "source": [
    "webpage.find('div', class_='_3wU53n').text"
   ]
  },
  {
   "cell_type": "code",
   "execution_count": 15,
   "metadata": {},
   "outputs": [
    {
     "data": {
      "text/plain": [
       "'₹68,300'"
      ]
     },
     "execution_count": 15,
     "metadata": {},
     "output_type": "execute_result"
    }
   ],
   "source": [
    "webpage.find('div', class_='_1vC4OE _2rQ-NK').text"
   ]
  },
  {
   "cell_type": "code",
   "execution_count": 16,
   "metadata": {},
   "outputs": [],
   "source": [
    "titleList = webpage.find_all('div', class_='_3wU53n')\n",
    "priceList = webpage.find_all('div', class_='_1vC4OE _2rQ-NK')"
   ]
  },
  {
   "cell_type": "code",
   "execution_count": 17,
   "metadata": {},
   "outputs": [
    {
     "data": {
      "text/plain": [
       "24"
      ]
     },
     "execution_count": 17,
     "metadata": {},
     "output_type": "execute_result"
    }
   ],
   "source": [
    "len(titleList)"
   ]
  },
  {
   "cell_type": "code",
   "execution_count": 18,
   "metadata": {},
   "outputs": [
    {
     "data": {
      "text/plain": [
       "24"
      ]
     },
     "execution_count": 18,
     "metadata": {},
     "output_type": "execute_result"
    }
   ],
   "source": [
    "len(priceList)"
   ]
  },
  {
   "cell_type": "code",
   "execution_count": 21,
   "metadata": {},
   "outputs": [
    {
     "name": "stdout",
     "output_type": "stream",
     "text": [
      "Apple iPhone 11 (White, 64 GB)\n",
      "₹68,300\n",
      "********************\n",
      "Apple iPhone 11 (Black, 64 GB)\n",
      "₹68,300\n",
      "********************\n",
      "Apple iPhone 11 (White, 128 GB)\n",
      "₹73,600\n",
      "********************\n",
      "Apple iPhone 11 (Black, 128 GB)\n",
      "₹73,600\n",
      "********************\n",
      "Apple iPhone 11 (Green, 64 GB)\n",
      "₹68,300\n",
      "********************\n",
      "Apple iPhone 11 (Purple, 64 GB)\n",
      "₹68,300\n",
      "********************\n",
      "Apple iPhone 11 (Red, 64 GB)\n",
      "₹68,300\n",
      "********************\n",
      "Apple iPhone 11 (Red, 128 GB)\n",
      "₹73,600\n",
      "********************\n",
      "Apple iPhone 11 (Yellow, 64 GB)\n",
      "₹68,300\n",
      "********************\n",
      "Apple iPhone 11 (Green, 128 GB)\n",
      "₹73,600\n",
      "********************\n",
      "Apple iPhone 11 (Purple, 128 GB)\n",
      "₹73,600\n",
      "********************\n",
      "Apple iPhone 11 (White, 256 GB)\n",
      "₹84,100\n",
      "********************\n",
      "Apple iPhone 11 (Red, 256 GB)\n",
      "₹84,100\n",
      "********************\n",
      "Apple iPhone 11 (Yellow, 128 GB)\n",
      "₹73,600\n",
      "********************\n",
      "Apple iPhone 11 (Black, 256 GB)\n",
      "₹84,100\n",
      "********************\n",
      "Apple iPhone 11 (Green, 256 GB)\n",
      "₹84,100\n",
      "********************\n",
      "Apple iPhone 11 (Purple, 256 GB)\n",
      "₹84,100\n",
      "********************\n",
      "Apple iPhone 11 (Yellow, 256 GB)\n",
      "₹84,100\n",
      "********************\n",
      "Apple iPhone 11 Pro (Space Grey, 512 GB)\n",
      "₹1,40,300\n",
      "********************\n",
      "Apple iPhone 11 Pro Max (Midnight Green, 256 GB)\n",
      "₹1,31,900\n",
      "********************\n",
      "Apple iPhone 11 Pro Max (Space Grey, 64 GB)\n",
      "₹1,17,100\n",
      "********************\n",
      "Apple iPhone 11 Pro (Gold, 64 GB)\n",
      "₹1,06,600\n",
      "********************\n",
      "Apple iPhone 11 Pro Max (Gold, 64 GB)\n",
      "₹1,17,100\n",
      "********************\n",
      "Apple iPhone 11 Pro (Silver, 64 GB)\n",
      "₹1,06,600\n",
      "********************\n"
     ]
    }
   ],
   "source": [
    "for i in range(len(titleList)):\n",
    "    print(titleList[i].text)\n",
    "    print(priceList[i].text)\n",
    "    print('*' * 20)"
   ]
  },
  {
   "cell_type": "code",
   "execution_count": 22,
   "metadata": {},
   "outputs": [
    {
     "data": {
      "text/plain": [
       "<function sum(iterable, start=0, /)>"
      ]
     },
     "execution_count": 22,
     "metadata": {},
     "output_type": "execute_result"
    }
   ],
   "source": [
    "sum"
   ]
  },
  {
   "cell_type": "code",
   "execution_count": 24,
   "metadata": {},
   "outputs": [],
   "source": [
    "data = {\"title\" : [], \"price\" : []}\n",
    "\n",
    "for i in range(1,4):\n",
    "    path = \"https://www.flipkart.com/search?q=iphone+11&otracker=search&otracker1=search&marketplace=FLIPKART&as-show=on&as=off&page=\"+str(i)\n",
    "    response = url.urlopen(path)\n",
    "    webpage = bs4.BeautifulSoup(response)\n",
    "    titleList = webpage.find_all('div', class_='_3wU53n')\n",
    "    priceList = webpage.find_all('div', class_='_1vC4OE _2rQ-NK')\n",
    "    \n",
    "    for j in range(len(titleList)):\n",
    "        data['title'].append(titleList[j].text)\n",
    "        data['price'].append(priceList[j].text)"
   ]
  },
  {
   "cell_type": "code",
   "execution_count": 25,
   "metadata": {},
   "outputs": [],
   "source": [
    "import pandas as pd"
   ]
  },
  {
   "cell_type": "code",
   "execution_count": 27,
   "metadata": {},
   "outputs": [],
   "source": [
    "df = pd.DataFrame(data)"
   ]
  },
  {
   "cell_type": "code",
   "execution_count": 28,
   "metadata": {},
   "outputs": [
    {
     "data": {
      "text/plain": [
       "(72, 2)"
      ]
     },
     "execution_count": 28,
     "metadata": {},
     "output_type": "execute_result"
    }
   ],
   "source": [
    "df.shape"
   ]
  },
  {
   "cell_type": "code",
   "execution_count": 29,
   "metadata": {},
   "outputs": [
    {
     "data": {
      "text/html": [
       "<div>\n",
       "<style scoped>\n",
       "    .dataframe tbody tr th:only-of-type {\n",
       "        vertical-align: middle;\n",
       "    }\n",
       "\n",
       "    .dataframe tbody tr th {\n",
       "        vertical-align: top;\n",
       "    }\n",
       "\n",
       "    .dataframe thead th {\n",
       "        text-align: right;\n",
       "    }\n",
       "</style>\n",
       "<table border=\"1\" class=\"dataframe\">\n",
       "  <thead>\n",
       "    <tr style=\"text-align: right;\">\n",
       "      <th></th>\n",
       "      <th>title</th>\n",
       "      <th>price</th>\n",
       "    </tr>\n",
       "  </thead>\n",
       "  <tbody>\n",
       "    <tr>\n",
       "      <th>0</th>\n",
       "      <td>Apple iPhone 11 (White, 64 GB)</td>\n",
       "      <td>₹68,300</td>\n",
       "    </tr>\n",
       "    <tr>\n",
       "      <th>1</th>\n",
       "      <td>Apple iPhone 11 (Black, 64 GB)</td>\n",
       "      <td>₹68,300</td>\n",
       "    </tr>\n",
       "    <tr>\n",
       "      <th>2</th>\n",
       "      <td>Apple iPhone 11 (White, 128 GB)</td>\n",
       "      <td>₹73,600</td>\n",
       "    </tr>\n",
       "    <tr>\n",
       "      <th>3</th>\n",
       "      <td>Apple iPhone 11 (Black, 128 GB)</td>\n",
       "      <td>₹73,600</td>\n",
       "    </tr>\n",
       "    <tr>\n",
       "      <th>4</th>\n",
       "      <td>Apple iPhone 11 (Green, 64 GB)</td>\n",
       "      <td>₹68,300</td>\n",
       "    </tr>\n",
       "  </tbody>\n",
       "</table>\n",
       "</div>"
      ],
      "text/plain": [
       "                             title    price\n",
       "0   Apple iPhone 11 (White, 64 GB)  ₹68,300\n",
       "1   Apple iPhone 11 (Black, 64 GB)  ₹68,300\n",
       "2  Apple iPhone 11 (White, 128 GB)  ₹73,600\n",
       "3  Apple iPhone 11 (Black, 128 GB)  ₹73,600\n",
       "4   Apple iPhone 11 (Green, 64 GB)  ₹68,300"
      ]
     },
     "execution_count": 29,
     "metadata": {},
     "output_type": "execute_result"
    }
   ],
   "source": [
    "df.head()"
   ]
  },
  {
   "cell_type": "code",
   "execution_count": null,
   "metadata": {},
   "outputs": [],
   "source": []
  }
 ],
 "metadata": {
  "kernelspec": {
   "display_name": "Python 3",
   "language": "python",
   "name": "python3"
  },
  "language_info": {
   "codemirror_mode": {
    "name": "ipython",
    "version": 3
   },
   "file_extension": ".py",
   "mimetype": "text/x-python",
   "name": "python",
   "nbconvert_exporter": "python",
   "pygments_lexer": "ipython3",
   "version": "3.7.4"
  }
 },
 "nbformat": 4,
 "nbformat_minor": 4
}
